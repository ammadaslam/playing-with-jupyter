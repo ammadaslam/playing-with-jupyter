{
 "cells": [
  {
   "cell_type": "code",
   "execution_count": 1,
   "id": "2f40d185-661b-4977-9617-51c5229676a9",
   "metadata": {},
   "outputs": [],
   "source": [
    "i = 1\n",
    "j = 2\n",
    "k = i + j"
   ]
  },
  {
   "cell_type": "code",
   "execution_count": 2,
   "id": "0ac108e6-2273-4194-a887-e38dce0cdd47",
   "metadata": {},
   "outputs": [
    {
     "ename": "SyntaxError",
     "evalue": "invalid syntax (<ipython-input-2-be8ccdcf21b6>, line 1)",
     "output_type": "error",
     "traceback": [
      "\u001b[1;36m  File \u001b[1;32m\"<ipython-input-2-be8ccdcf21b6>\"\u001b[1;36m, line \u001b[1;32m1\u001b[0m\n\u001b[1;33m    k =\u001b[0m\n\u001b[1;37m        ^\u001b[0m\n\u001b[1;31mSyntaxError\u001b[0m\u001b[1;31m:\u001b[0m invalid syntax\n"
     ]
    }
   ],
   "source": [
    "k = "
   ]
  },
  {
   "cell_type": "code",
   "execution_count": 3,
   "id": "6e0ad5f7-1d31-4a8f-8ea9-905597ee0dfd",
   "metadata": {},
   "outputs": [
    {
     "data": {
      "text/plain": [
       "3"
      ]
     },
     "execution_count": 3,
     "metadata": {},
     "output_type": "execute_result"
    }
   ],
   "source": [
    "k "
   ]
  },
  {
   "cell_type": "markdown",
   "id": "d17edda5-be82-48c0-a72b-f597a2a788bf",
   "metadata": {},
   "source": [
    "# This is Markdown Heading\n",
    "**Bold Text**\n",
    "- list 1\n",
    "- list 2\n",
    "\n",
    "![](https://www.gmit.ie/sites/default/files/public/styles/landing_page_image/public/general/images/coronavirus-header.jpg?itok=jEaEDaoE)"
   ]
  },
  {
   "cell_type": "code",
   "execution_count": null,
   "id": "af6e656a-bfd3-471a-ad0c-1ffa7d1cd7b9",
   "metadata": {},
   "outputs": [],
   "source": []
  }
 ],
 "metadata": {
  "kernelspec": {
   "display_name": "Python 3",
   "language": "python",
   "name": "python3"
  },
  "language_info": {
   "codemirror_mode": {
    "name": "ipython",
    "version": 3
   },
   "file_extension": ".py",
   "mimetype": "text/x-python",
   "name": "python",
   "nbconvert_exporter": "python",
   "pygments_lexer": "ipython3",
   "version": "3.8.8"
  }
 },
 "nbformat": 4,
 "nbformat_minor": 5
}
